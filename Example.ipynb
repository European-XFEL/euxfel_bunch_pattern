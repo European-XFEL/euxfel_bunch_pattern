{
 "cells": [
  {
   "cell_type": "code",
   "execution_count": 1,
   "metadata": {},
   "outputs": [],
   "source": [
    "from karabo_data import RunDirectory\n",
    "import bunch_pattern"
   ]
  },
  {
   "cell_type": "code",
   "execution_count": 2,
   "metadata": {},
   "outputs": [],
   "source": [
    "run = RunDirectory('/gpfs/exfel/exp/SQS/201921/p002412/raw/r0028/')"
   ]
  },
  {
   "cell_type": "code",
   "execution_count": 3,
   "metadata": {},
   "outputs": [],
   "source": [
    "bunch_pattern_tables = run.get_array('SQS_RR_UTC/TSYS/TIMESERVER', 'bunchPatternTable.value')"
   ]
  },
  {
   "cell_type": "code",
   "execution_count": 4,
   "metadata": {},
   "outputs": [
    {
     "name": "stdout",
     "output_type": "stream",
     "text": [
      "Train 41582645, pulse indices to SASE3: [240]\n",
      "Train 41582646, pulse indices to SASE3: []\n",
      "Train 41582647, pulse indices to SASE3: [240]\n",
      "Train 41582648, pulse indices to SASE3: []\n",
      "Train 41582649, pulse indices to SASE3: [240]\n",
      "Train 41582650, pulse indices to SASE3: []\n",
      "Train 41582651, pulse indices to SASE3: [240]\n",
      "Train 41582652, pulse indices to SASE3: []\n",
      "Train 41582653, pulse indices to SASE3: [240]\n",
      "Train 41582654, pulse indices to SASE3: []\n"
     ]
    }
   ],
   "source": [
    "for table in bunch_pattern_tables[:10]:\n",
    "    tid = table.trainId.item()\n",
    "    sase3_pulses = bunch_pattern.indices_at_sase(table.data, sase=3)\n",
    "    print(f\"Train {tid}, pulse indices to SASE3: {sase3_pulses}\")"
   ]
  }
 ],
 "metadata": {
  "kernelspec": {
   "display_name": "Python 3",
   "language": "python",
   "name": "python3"
  },
  "language_info": {
   "codemirror_mode": {
    "name": "ipython",
    "version": 3
   },
   "file_extension": ".py",
   "mimetype": "text/x-python",
   "name": "python",
   "nbconvert_exporter": "python",
   "pygments_lexer": "ipython3",
   "version": "3.6.5"
  }
 },
 "nbformat": 4,
 "nbformat_minor": 2
}
