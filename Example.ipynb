{
 "cells": [
  {
   "cell_type": "markdown",
   "metadata": {},
   "source": [
    "## Decoding bunch pattern data"
   ]
  },
  {
   "cell_type": "code",
   "execution_count": 1,
   "metadata": {},
   "outputs": [],
   "source": [
    "from karabo_data import RunDirectory\n",
    "import bunch_pattern"
   ]
  },
  {
   "cell_type": "code",
   "execution_count": 2,
   "metadata": {},
   "outputs": [],
   "source": [
    "run = RunDirectory('/gpfs/exfel/exp/SCS/201802/p002197/raw/r0205/')"
   ]
  },
  {
   "cell_type": "markdown",
   "metadata": {},
   "source": [
    "The bunch pattern is saved by the time server as an array of 32-bit integers, one for each possible pulse."
   ]
  },
  {
   "cell_type": "code",
   "execution_count": 3,
   "metadata": {},
   "outputs": [],
   "source": [
    "bunch_pattern_tables = run.get_array('SCS_RR_UTC/TSYS/TIMESERVER', 'bunchPatternTable.value')"
   ]
  },
  {
   "cell_type": "code",
   "execution_count": 4,
   "metadata": {},
   "outputs": [
    {
     "data": {
      "text/plain": [
       "<xarray.DataArray (trainId: 5, dim_0: 2700)>\n",
       "array([[2146089,   32768,   33024, ...,       0,       0,       0],\n",
       "       [2146089,   32768,   33024, ...,       0,       0,       0],\n",
       "       [2146089,   32768,   33024, ...,       0,       0,       0],\n",
       "       [2146089,   32768,   33024, ...,       0,       0,       0],\n",
       "       [2146089,   32768,   33024, ...,       0,       0,       0]],\n",
       "      dtype=uint32)\n",
       "Coordinates:\n",
       "  * trainId  (trainId) uint64 44291929 44291930 44291931 44291932 44291933\n",
       "Dimensions without coordinates: dim_0"
      ]
     },
     "execution_count": 4,
     "metadata": {},
     "output_type": "execute_result"
    }
   ],
   "source": [
    "bunch_pattern_tables[:5]"
   ]
  },
  {
   "cell_type": "markdown",
   "metadata": {},
   "source": [
    "### Destinations"
   ]
  },
  {
   "cell_type": "markdown",
   "metadata": {},
   "source": [
    "The 32 bits of each entry record different information, including the destination of the pulse.\n",
    "\n",
    "E.g. we can see which pulses in each train were sent to SASE1:"
   ]
  },
  {
   "cell_type": "code",
   "execution_count": 5,
   "metadata": {},
   "outputs": [
    {
     "name": "stdout",
     "output_type": "stream",
     "text": [
      "Train 44291929, pulses to SASE1: [280 284 288 292 296 300 304 308 312 316 320 324 328 332 336 340 344 348\n",
      " 352 356 360 364 368 372 376 380 384 388 392 396]\n",
      "Train 44291930, pulses to SASE1: [280 284 288 292 296 300 304 308 312 316 320 324 328 332 336 340 344 348\n",
      " 352 356 360 364 368 372 376 380 384 388 392 396]\n",
      "Train 44291931, pulses to SASE1: []\n",
      "Train 44291932, pulses to SASE1: [280 284 288 292 296 300 304 308 312 316 320 324 328 332 336 340 344 348\n",
      " 352 356 360 364 368 372 376 380 384 388 392 396]\n",
      "Train 44291933, pulses to SASE1: [280 284 288 292 296 300 304 308 312 316 320 324 328 332 336 340 344 348\n",
      " 352 356 360 364 368 372 376 380 384 388 392 396]\n",
      "Train 44291934, pulses to SASE1: [280 284 288 292 296 300 304 308 312 316 320 324 328 332 336 340 344 348\n",
      " 352 356 360 364 368 372 376 380 384 388 392 396]\n",
      "Train 44291935, pulses to SASE1: [280 284 288 292 296 300 304 308 312 316 320 324 328 332 336 340 344 348\n",
      " 352 356 360 364 368 372 376 380 384 388 392 396]\n",
      "Train 44291936, pulses to SASE1: []\n",
      "Train 44291937, pulses to SASE1: [280 284 288 292 296 300 304 308 312 316 320 324 328 332 336 340 344 348\n",
      " 352 356 360 364 368 372 376 380 384 388 392 396]\n",
      "Train 44291938, pulses to SASE1: [280 284 288 292 296 300 304 308 312 316 320 324 328 332 336 340 344 348\n",
      " 352 356 360 364 368 372 376 380 384 388 392 396]\n"
     ]
    }
   ],
   "source": [
    "for table in bunch_pattern_tables[:10]:\n",
    "    tid = table.trainId.item()\n",
    "    sase1_pulses = bunch_pattern.indices_at_sase(table.data, sase=1)\n",
    "    print(f\"Train {tid}, pulses to SASE1: {sase1_pulses}\")"
   ]
  },
  {
   "cell_type": "markdown",
   "metadata": {},
   "source": [
    "The pulsePatternDecoder Karabo device also produces this information:"
   ]
  },
  {
   "cell_type": "code",
   "execution_count": 6,
   "metadata": {
    "scrolled": true
   },
   "outputs": [
    {
     "name": "stdout",
     "output_type": "stream",
     "text": [
      "[[280 284 288 292 296 300 304 308 312 316 320 324 328 332 336 340 344 348\n",
      "  352 356 360 364 368 372 376 380 384 388 392 396   1   1   1   1   1]\n",
      " [280 284 288 292 296 300 304 308 312 316 320 324 328 332 336 340 344 348\n",
      "  352 356 360 364 368 372 376 380 384 388 392 396   1   1   1   1   1]\n",
      " [  1   1   1   1   1   1   1   1   1   1   1   1   1   1   1   1   1   1\n",
      "    1   1   1   1   1   1   1   1   1   1   1   1   1   1   1   1   1]\n",
      " [280 284 288 292 296 300 304 308 312 316 320 324 328 332 336 340 344 348\n",
      "  352 356 360 364 368 372 376 380 384 388 392 396   1   1   1   1   1]\n",
      " [280 284 288 292 296 300 304 308 312 316 320 324 328 332 336 340 344 348\n",
      "  352 356 360 364 368 372 376 380 384 388 392 396   1   1   1   1   1]\n",
      " [280 284 288 292 296 300 304 308 312 316 320 324 328 332 336 340 344 348\n",
      "  352 356 360 364 368 372 376 380 384 388 392 396   1   1   1   1   1]\n",
      " [280 284 288 292 296 300 304 308 312 316 320 324 328 332 336 340 344 348\n",
      "  352 356 360 364 368 372 376 380 384 388 392 396   1   1   1   1   1]\n",
      " [  1   1   1   1   1   1   1   1   1   1   1   1   1   1   1   1   1   1\n",
      "    1   1   1   1   1   1   1   1   1   1   1   1   1   1   1   1   1]\n",
      " [280 284 288 292 296 300 304 308 312 316 320 324 328 332 336 340 344 348\n",
      "  352 356 360 364 368 372 376 380 384 388 392 396   1   1   1   1   1]\n",
      " [280 284 288 292 296 300 304 308 312 316 320 324 328 332 336 340 344 348\n",
      "  352 356 360 364 368 372 376 380 384 388 392 396   1   1   1   1   1]]\n"
     ]
    }
   ],
   "source": [
    "print(run.get_array('SCS_RR_UTC/MDL/BUNCH_DECODER', 'sase1.pulseIds.value')[:10, :35].values)"
   ]
  },
  {
   "cell_type": "markdown",
   "metadata": {},
   "source": [
    "This run also contains a few pulses sent to SASE3:"
   ]
  },
  {
   "cell_type": "code",
   "execution_count": 7,
   "metadata": {},
   "outputs": [
    {
     "name": "stdout",
     "output_type": "stream",
     "text": [
      "Train 44292006, pulses to SASE3: [280]\n",
      "Train 44292421, pulses to SASE3: [280]\n",
      "Train 44292431, pulses to SASE3: [280]\n",
      "Train 44292601, pulses to SASE3: [280]\n",
      "Train 44292611, pulses to SASE3: [280]\n"
     ]
    }
   ],
   "source": [
    "for table in bunch_pattern_tables:\n",
    "    tid = table.trainId.item()\n",
    "    sase3_pulses = bunch_pattern.indices_at_sase(table.data, sase=3)\n",
    "    if sase3_pulses.size > 0:\n",
    "        print(f\"Train {tid}, pulses to SASE3: {sase3_pulses}\")"
   ]
  },
  {
   "cell_type": "code",
   "execution_count": 8,
   "metadata": {},
   "outputs": [
    {
     "data": {
      "text/plain": [
       "<xarray.DataArray (trainId: 11, dim_0: 5)>\n",
       "array([[280,   1,   1,   1,   1],\n",
       "       [  1,   1,   1,   1,   1],\n",
       "       [  1,   1,   1,   1,   1],\n",
       "       [  1,   1,   1,   1,   1],\n",
       "       [  1,   1,   1,   1,   1],\n",
       "       [  1,   1,   1,   1,   1],\n",
       "       [  1,   1,   1,   1,   1],\n",
       "       [  1,   1,   1,   1,   1],\n",
       "       [  1,   1,   1,   1,   1],\n",
       "       [  1,   1,   1,   1,   1],\n",
       "       [280,   1,   1,   1,   1]], dtype=int32)\n",
       "Coordinates:\n",
       "  * trainId  (trainId) uint64 44292421 44292422 44292423 44292424 44292425 ...\n",
       "Dimensions without coordinates: dim_0"
      ]
     },
     "execution_count": 8,
     "metadata": {},
     "output_type": "execute_result"
    }
   ],
   "source": [
    "# Check with pulsePatternDecoder\n",
    "from karabo_data import by_id\n",
    "run.select_trains(by_id[44292421:44292431+1]).get_array('SCS_RR_UTC/MDL/BUNCH_DECODER', 'sase3.pulseIds.value')[:, :5]"
   ]
  },
  {
   "cell_type": "markdown",
   "metadata": {},
   "source": [
    "### Pulse charge"
   ]
  },
  {
   "cell_type": "markdown",
   "metadata": {},
   "source": [
    "You can also get the pulse charge in nanocoulombs (nC):"
   ]
  },
  {
   "cell_type": "code",
   "execution_count": 9,
   "metadata": {},
   "outputs": [
    {
     "data": {
      "text/plain": [
       "array([0.36, 0.  , 0.  , 0.  , 0.36, 0.  , 0.  , 0.  , 0.36, 0.  , 0.  ,\n",
       "       0.  , 0.36, 0.  , 0.  , 0.  , 0.36, 0.  , 0.  , 0.  , 0.36, 0.  ,\n",
       "       0.  , 0.  , 0.36, 0.  , 0.  , 0.  , 0.36, 0.  , 0.  , 0.  , 0.36,\n",
       "       0.  , 0.  , 0.  , 0.36, 0.  , 0.  , 0.  , 0.36, 0.  , 0.  , 0.  ,\n",
       "       0.36, 0.  , 0.  , 0.  , 0.36, 0.  , 0.  , 0.  , 0.36, 0.  , 0.  ,\n",
       "       0.  , 0.36, 0.  , 0.  , 0.  , 0.36, 0.  , 0.  , 0.  , 0.36, 0.  ,\n",
       "       0.  , 0.  , 0.36, 0.  , 0.  , 0.  , 0.36, 0.  , 0.  , 0.  , 0.36,\n",
       "       0.  , 0.  , 0.  , 0.36, 0.  , 0.  , 0.  , 0.36, 0.  , 0.  , 0.  ,\n",
       "       0.36, 0.  , 0.  , 0.  , 0.36, 0.  , 0.  , 0.  , 0.36, 0.  , 0.  ,\n",
       "       0.  , 0.36, 0.  , 0.  , 0.  , 0.36, 0.  , 0.  , 0.  , 0.36, 0.  ,\n",
       "       0.  , 0.  , 0.36, 0.  , 0.  , 0.  , 0.36, 0.  , 0.  , 0.  ])"
      ]
     },
     "execution_count": 9,
     "metadata": {},
     "output_type": "execute_result"
    }
   ],
   "source": [
    "bunch_pattern.get_charge(bunch_pattern_tables[0, 280:400])"
   ]
  }
 ],
 "metadata": {
  "kernelspec": {
   "display_name": "Python 3",
   "language": "python",
   "name": "python3"
  },
  "language_info": {
   "codemirror_mode": {
    "name": "ipython",
    "version": 3
   },
   "file_extension": ".py",
   "mimetype": "text/x-python",
   "name": "python",
   "nbconvert_exporter": "python",
   "pygments_lexer": "ipython3",
   "version": "3.6.5"
  }
 },
 "nbformat": 4,
 "nbformat_minor": 2
}
